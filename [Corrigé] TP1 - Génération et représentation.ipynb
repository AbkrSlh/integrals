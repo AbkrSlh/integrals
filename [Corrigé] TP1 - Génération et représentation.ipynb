{
 "cells": [
  {
   "cell_type": "markdown",
   "id": "90d03007",
   "metadata": {},
   "source": [
    "# TP1 : Génération de variables discrètes, Représentation graphique d'un échantillon"
   ]
  },
  {
   "cell_type": "markdown",
   "id": "df4218ca",
   "metadata": {},
   "source": [
    "## 1. Introduction aux Notebooks Jupyter"
   ]
  },
  {
   "cell_type": "markdown",
   "id": "d068effb",
   "metadata": {},
   "source": [
    "Jupyter Notebook est un ensemble de modules Python permettant notamment\n",
    "de mêler des blocs de texte rédigés en Markdown, comme celui-ci,\n",
    "et des blocs de code Python comme celui ci-après.\n",
    "\n",
    "Les TP présupposent une connaissance au moins élémentaire du langage Python, [de nombreux sites internet existent](https://www.pythoncheatsheet.org/cheatsheet/basics) pour vous rafraichir les idées à ce sujet."
   ]
  },
  {
   "cell_type": "code",
   "execution_count": 1,
   "id": "0b9398d0",
   "metadata": {},
   "outputs": [],
   "source": [
    "### BLOC 1 ###\n",
    "\n",
    "message='Bonjour.\\n'\n",
    "\n",
    "def hello_world():\n",
    "    return \"Hello World !\""
   ]
  },
  {
   "cell_type": "code",
   "execution_count": 2,
   "id": "d1f28675",
   "metadata": {
    "scrolled": true
   },
   "outputs": [
    {
     "name": "stdout",
     "output_type": "stream",
     "text": [
      "Bonjour.\n",
      "\n",
      "Hello World !\n"
     ]
    }
   ],
   "source": [
    "### BLOC 2 ###\n",
    "\n",
    "print(message)\n",
    "print(hello_world())"
   ]
  },
  {
   "cell_type": "markdown",
   "id": "81b2ef59",
   "metadata": {},
   "source": [
    "Il est même possible d'exécuter les blocs de code dans le désordre. Essayons donc d'exécuter le bloc 3 puis le bloc 2 pour voir."
   ]
  },
  {
   "cell_type": "code",
   "execution_count": 3,
   "id": "ca6daf6e",
   "metadata": {},
   "outputs": [],
   "source": [
    "### BLOC 3 ###\n",
    "\n",
    "message='Rebonjour !\\n'\n",
    "\n",
    "def hello_world():\n",
    "    return \"Le TP progresse.\""
   ]
  },
  {
   "cell_type": "markdown",
   "id": "5de81a84",
   "metadata": {},
   "source": [
    "Il est également possible de déplacer des blocs existants ou d'en insérer de nouveaux. Les notebooks sont un outil assez souple, notamment adapté pour partager et illustrer des phénomènes mathématiques, aléatoires ou non, ce que nous allons faire au cours des prochaines séances.\n",
    "\n",
    "Le but de cette première séance de TP est de se familiariser avec cet outil, et notamment avec l'utilisation des bibliothèques graphiques de Python."
   ]
  },
  {
   "cell_type": "markdown",
   "id": "24518248",
   "metadata": {},
   "source": [
    "## 2. Affichage d'une courbe de fonction"
   ]
  },
  {
   "cell_type": "markdown",
   "id": "037a62cc",
   "metadata": {},
   "source": [
    "Pour l'affichage d'une courbe du type $Y=f(X)$, on utilise les modules `numpy`, spécialisée dans la manipulation de listes / vecteurs / matrices, et `matplotlib.pyplot`, pour l'affichage lui-même. Plus de détails sur l'utilisation du module Pyplot sont disponibles dans [la documentation](https://matplotlib.org/stable/tutorials/introductory/pyplot.html)."
   ]
  },
  {
   "cell_type": "code",
   "execution_count": 4,
   "id": "38d79f59",
   "metadata": {},
   "outputs": [],
   "source": [
    "import numpy as np\n",
    "import matplotlib.pyplot as plt\n",
    "\n",
    "X2 = np.arange(0,10,0.1)"
   ]
  },
  {
   "cell_type": "code",
   "execution_count": 5,
   "id": "da92a130",
   "metadata": {},
   "outputs": [],
   "source": [
    "# Pour l'exemple, utilisons la fonction identité :\n",
    "\n",
    "def f2(x): return x"
   ]
  },
  {
   "cell_type": "code",
   "execution_count": 6,
   "id": "b1782e8d",
   "metadata": {
    "scrolled": false
   },
   "outputs": [
    {
     "data": {
      "image/png": "[encoded data removed]",
      "text/plain": [
       "<Figure size 640x480 with 1 Axes>"
      ]
     },
     "metadata": {},
     "output_type": "display_data"
    }
   ],
   "source": [
    "### AFFICHAGE DE LA FONCTION ###\n",
    "\n",
    "Y2 = f2(X2)\n",
    "\n",
    "plt.title(\"titre\")\n",
    "plt.xlabel(\"axe horizontal\")\n",
    "plt.ylabel(\"axe vertical\")\n",
    "plt.plot(X2,Y2)\n",
    "plt.show()"
   ]
  },
  {
   "cell_type": "markdown",
   "id": "208fe4cc",
   "metadata": {},
   "source": [
    "Ce faisant, `matplotlib` génère une image qui est affichée par le notebook. On peut ceci dit faire un peu plus interactif, en faisant appel (une fois suffit) à une commande *magique*. Magique est ici un terme technique, pas une façon de parler, mais celà dépasse le cadre de ce TP.\n",
    "\n",
    "Exécutons donc la commande suivante puis à nouveau le bloc d'affichage de la fonction."
   ]
  },
  {
   "cell_type": "code",
   "execution_count": 7,
   "id": "892c8a46",
   "metadata": {},
   "outputs": [],
   "source": [
    "%matplotlib notebook"
   ]
  },
  {
   "cell_type": "markdown",
   "id": "10af2046",
   "metadata": {},
   "source": [
    "On peut désormais changer le format d'affichage, se déplacer au sein du graphe, et zoomer / recarder jusqu'à manuellement isoler une zone d'intérêt à exporter.\n",
    "\n",
    "Avec ce mode, il faut penser à « éteindre » un bloc graphique avant de générer le suivant. Pour revenir au mode simplifié, il suffit d'exécuter l'instruction suivante :"
   ]
  },
  {
   "cell_type": "code",
   "execution_count": 8,
   "id": "bd436bc0",
   "metadata": {},
   "outputs": [],
   "source": [
    "%matplotlib inline"
   ]
  },
  {
   "cell_type": "markdown",
   "id": "00a230c3",
   "metadata": {},
   "source": [
    "## 3. Génération d'entiers aléatoires avec le module `random`"
   ]
  },
  {
   "cell_type": "markdown",
   "id": "db4446a9",
   "metadata": {},
   "source": [
    "Python dispose d'un module interne dédié à la génération de données aléatoires, `random`. Faisons un petit récapitulatif des fonctions les plus utiles du module (plus d'informations dans [la documentation](https://docs.python.org/3/library/random.html))."
   ]
  },
  {
   "cell_type": "code",
   "execution_count": 9,
   "id": "9d85c76a",
   "metadata": {},
   "outputs": [],
   "source": [
    "import random as rand"
   ]
  },
  {
   "cell_type": "markdown",
   "id": "432dded1",
   "metadata": {},
   "source": [
    "Commençons par la fonction `randint(a,b)` qui retourne uniformément au hasard un entier $n\\in \\left[a,b\\right]$."
   ]
  },
  {
   "cell_type": "code",
   "execution_count": 10,
   "id": "791285f1",
   "metadata": {},
   "outputs": [
    {
     "data": {
      "text/plain": [
       "1"
      ]
     },
     "execution_count": 10,
     "metadata": {},
     "output_type": "execute_result"
    }
   ],
   "source": [
    "rand.randint(0,10)"
   ]
  },
  {
   "cell_type": "markdown",
   "id": "670f25c7",
   "metadata": {},
   "source": [
    "En particulier, `rand.randint(0,1)` génère une variable de Bernouilli équilibrée, de loi $\\mathcal{B}(0.5)$."
   ]
  },
  {
   "cell_type": "markdown",
   "id": "9c67c653",
   "metadata": {},
   "source": [
    "On peut également utiliser `randrange(a,b,s)`, qui retourne un élément choisi uniformément au hasard dans la liste définie par `randrange(a,b,s)`, autrement dit $[a,b[\\cap\\left(a+s\\mathbb{N}\\right)$."
   ]
  },
  {
   "cell_type": "code",
   "execution_count": 11,
   "id": "0b8ae940",
   "metadata": {},
   "outputs": [
    {
     "data": {
      "text/plain": [
       "0"
      ]
     },
     "execution_count": 11,
     "metadata": {},
     "output_type": "execute_result"
    }
   ],
   "source": [
    "rand.randrange(0,10,3)"
   ]
  },
  {
   "cell_type": "markdown",
   "id": "364d4f52",
   "metadata": {},
   "source": [
    "**Exercice :**\n",
    "\n",
    "Compléter le code suivant pour que la fonction `echantillon(n)` retourne une liste de `L` de longueur $n$, constituée de tirages indépendants de loi $\\mathcal{B}(0.5)$."
   ]
  },
  {
   "cell_type": "code",
   "execution_count": 12,
   "id": "5cf176ea",
   "metadata": {},
   "outputs": [],
   "source": [
    "def echantillon3(n):\n",
    "    # Code à remplir    \n",
    "    return L"
   ]
  },
  {
   "cell_type": "code",
   "execution_count": 13,
   "id": "fc4bf0a1",
   "metadata": {},
   "outputs": [],
   "source": [
    "### Correction indicative ###\n",
    "\n",
    "def echantillon3(n):\n",
    "    L = [rand.randint(0,1) for i in range(n)]    \n",
    "    return L"
   ]
  },
  {
   "cell_type": "markdown",
   "id": "782ffa68",
   "metadata": {},
   "source": [
    "## 4. Génération d'entiers aléatoires avec le module `numpy.random`"
   ]
  },
  {
   "cell_type": "markdown",
   "id": "47b07ae0",
   "metadata": {},
   "source": [
    "Dans la partie précédente, on a facilement pu modéliser des variables aléatoires à valeurs dans un ensemble *fini*. Malheureusement, cette approche est assez inadaptée pour des variables à valeurs dans un ensemble *dénombrable*, ce qui est en particulier le cas des loins de Poisson. Pour ce faire, le module `numpy` par exemple dispose de son propre sous-module  `numpy.random` dédié à la génération de variables aléatoires (une liste exhaustive des lois de probabilité utilisables est dans [la documentation](https://numpy.org/doc/stable/reference/random/generator.html#distributions)).\n",
    "\n",
    "On peut par exemple faire appel à une loi binomiale $\\mathcal{B}(n,p)$ avec `np.random.binomial(n,p)` :"
   ]
  },
  {
   "cell_type": "code",
   "execution_count": 14,
   "id": "771b0a16",
   "metadata": {},
   "outputs": [
    {
     "data": {
      "text/plain": [
       "2"
      ]
     },
     "execution_count": 14,
     "metadata": {},
     "output_type": "execute_result"
    }
   ],
   "source": [
    "np.random.binomial(10,.3)"
   ]
  },
  {
   "cell_type": "markdown",
   "id": "4a70fd0e",
   "metadata": {},
   "source": [
    "On peut également directement générer un échantillon de $k$ tirages indépendants avec `np.random.binomial(n,p,k)`, sous la forme d'un tableau numpy :"
   ]
  },
  {
   "cell_type": "code",
   "execution_count": 15,
   "id": "16dc4be1",
   "metadata": {},
   "outputs": [
    {
     "data": {
      "text/plain": [
       "array([5, 2, 6, 2, 4, 5, 3, 2, 5, 4, 5, 5, 5, 7, 5, 4, 5, 5, 5, 6])"
      ]
     },
     "execution_count": 15,
     "metadata": {},
     "output_type": "execute_result"
    }
   ],
   "source": [
    "np.random.binomial(10,.5,20)"
   ]
  },
  {
   "cell_type": "markdown",
   "id": "cc09a255",
   "metadata": {},
   "source": [
    "On peut de même générer une loi géométrique $\\mathcal{G}(p)$ via  `np.random.geometric(p)`, une loi de Poisson $\\mathcal{P}(s)$ via `np.random.poisson(s)`, ou une loi de Zipf de paramètre $a\\in\\mathbb{R}_{> 1}$ via `np.random.zipf(a)` (sur laquelle on reviendra peut-être au TP3)."
   ]
  },
  {
   "cell_type": "markdown",
   "id": "75e4544c",
   "metadata": {},
   "source": [
    "## 5. Représentation graphique d'une loi discrète"
   ]
  },
  {
   "cell_type": "markdown",
   "id": "0474f2ff",
   "metadata": {},
   "source": [
    "Pour représenter graphiquement la loi d'une variable discrète, il peut être pertinent d'utiliser des *diagrammes en bâtons* plus spécifiquement.\n",
    "\n",
    "Considérons ainsi la fonction `binom(n,p,k)`, qui calcule $\\mathbb{P}(X=k)$ pour une variable binômiale $X\\sim\\mathcal{B}(n,p)$."
   ]
  },
  {
   "cell_type": "code",
   "execution_count": 16,
   "id": "e9f28b9c",
   "metadata": {},
   "outputs": [],
   "source": [
    "from math import comb\n",
    "# comb(n,k) retourne le coefficient binômial « k parmi n ».\n",
    "\n",
    "def binom(n,p,k):\n",
    "    if k <= n and k >= 0 :\n",
    "        return comb(n,k)*p**k*(1-p)**(n-k)\n",
    "    else:\n",
    "        return 0"
   ]
  },
  {
   "cell_type": "markdown",
   "id": "801401fe",
   "metadata": {},
   "source": [
    "On sait qu'une telle variable prend des valeurs entre $0$ et $n$. On peut alors afficher sa distribution via le diagramme en bâtons (*bar plot* en anglais) suivant."
   ]
  },
  {
   "cell_type": "code",
   "execution_count": 17,
   "id": "4a8767c7",
   "metadata": {},
   "outputs": [
    {
     "data": {
      "image/png": "[encoded data removed]",
      "text/plain": [
       "<Figure size 640x480 with 1 Axes>"
      ]
     },
     "metadata": {},
     "output_type": "display_data"
    }
   ],
   "source": [
    "n5 = 10\n",
    "p5 = .5\n",
    "\n",
    "X5 = np.arange(n5+1)\n",
    "P5 = [binom(n5,p5,k) for k in X5]\n",
    "\n",
    "# Permet d'afficher des formules mathématiques en légende\n",
    "plt.rcParams['text.usetex'] = True\n",
    "plt.rcParams['font.family'] = 'Computer Modern'\n",
    "plt.rcParams['text.latex.preamble'] = r'\\usepackage{dsfont}'\n",
    "\n",
    "width5 = 0.1\n",
    "plt.xticks(X5)\n",
    "plt.xlabel('$k$')\n",
    "plt.ylabel('$\\mathds{P}(X=k)$')\n",
    "plt.title('Étude de la loi de $X\\sim\\mathcal{B}('+str(n5)+','+str(p5)+')$')\n",
    "plt.bar(X5,P5,width5,color='magenta',label='Distribution théorique')\n",
    "plt.legend()\n",
    "plt.show()"
   ]
  },
  {
   "cell_type": "markdown",
   "id": "0244ba99",
   "metadata": {},
   "source": [
    "Dans le cas de variables aléatoires à valeurs non-numériques, on peut également utiliser une liste de mots pour l'axe horizontal."
   ]
  },
  {
   "cell_type": "code",
   "execution_count": 18,
   "id": "f165b5f3",
   "metadata": {},
   "outputs": [
    {
     "data": {
      "image/png": "[encoded data removed]",
      "text/plain": [
       "<Figure size 640x480 with 1 Axes>"
      ]
     },
     "metadata": {},
     "output_type": "display_data"
    }
   ],
   "source": [
    "A5 = ['Soleil','Pluie','Guerre thermonucléaire globale']\n",
    "B5 = [0.3,0.1,0.6]\n",
    "plt.bar(A5,B5,width=0.3,color='cyan')\n",
    "plt.show()"
   ]
  },
  {
   "cell_type": "markdown",
   "id": "b7693cb5",
   "metadata": {},
   "source": [
    "**Exercice :**\n",
    "\n",
    "On aimerait comparer cette distribution théorique `P` à la distribution empirique observée sur un échantillon aléatoire, qu'on va écrire dans une liste `Q`.\n",
    "\n",
    "Ainsi, si on considère un échantillon de taille $10$,\n",
    "et qu'on observe $5$ fois l'entier $3$ dans cet échantillon,\n",
    "on veut avoir `Q[3]=0.5`.\n",
    "\n",
    "Après avoir généré cette densité empirique `Q` à l'intérieur de la fonction `echantillon5(n,p,taille)` dans le bloc 1, représentez son diagramme sur le même graphe que celui de `P`, côte à côte, dans le bloc 2."
   ]
  },
  {
   "cell_type": "code",
   "execution_count": 19,
   "id": "00c0eefc",
   "metadata": {},
   "outputs": [],
   "source": [
    "### BLOC 1 ###\n",
    "\n",
    "def echantillon5(n,p,taille):\n",
    "    # Code à remplir\n",
    "    return Q"
   ]
  },
  {
   "cell_type": "code",
   "execution_count": 20,
   "id": "371f44d9",
   "metadata": {},
   "outputs": [],
   "source": [
    "### Correction indicative ###\n",
    "\n",
    "def echantillon5(n,p,taille):\n",
    "    Sample = np.random.binomial(n,p,taille)\n",
    "    Q = np.zeros(n+1)\n",
    "    for x in Sample:\n",
    "        Q[x]+=1\n",
    "    Q /= taille\n",
    "    return Q"
   ]
  },
  {
   "cell_type": "markdown",
   "id": "bf45f9fa",
   "metadata": {},
   "source": [
    "<details>\n",
    "<summary><b>Cliquer ici pour un indice sur l'affichage graphique.</b></summary>\n",
    "\n",
    "Dans le diagramme précédent, l'instruction `plt.bar(X,P)` dit d'afficher la $k$-ième barre, de hauteur `P[k]`, à la position `X[k]`.\n",
    "Ainsi, en utilisant à la place l'instruction `plt.bar(X+width/2,P)`, on décalera les barres légèrement sur la droite.\n",
    "En décalant de même les barres pour `Q` sur la gauche via `plt.bar(X-width/2,Q)`, on peut alors juxtaposer les deux diagrammes sans perte de lisibilité.\n",
    "</details>"
   ]
  },
  {
   "cell_type": "code",
   "execution_count": 21,
   "id": "16c0d03a",
   "metadata": {},
   "outputs": [],
   "source": [
    "### BLOC 2 ###\n",
    "\n",
    "taille5 = 1000\n",
    "Q5 = echantillon5(n5,p5,taille5)\n",
    "\n",
    "# À vous de jouer !"
   ]
  },
  {
   "cell_type": "code",
   "execution_count": 22,
   "id": "e33f2753",
   "metadata": {
    "scrolled": false
   },
   "outputs": [
    {
     "data": {
      "image/png": "[encoded data removed]",
      "text/plain": [
       "<Figure size 640x480 with 1 Axes>"
      ]
     },
     "metadata": {},
     "output_type": "display_data"
    }
   ],
   "source": [
    "### Correction indicative ###\n",
    "\n",
    "width = 0.1\n",
    "plt.xticks(X5)\n",
    "plt.xlabel('$k$')\n",
    "plt.ylabel('$\\mathds{P}(X=k)$')\n",
    "plt.title('Étude de la loi de $X\\sim\\mathcal{B}('+str(n5)+','+str(p5)+')$')\n",
    "plt.bar(X5+width/2,P5,width,color='magenta',label='Distribution théorique')\n",
    "plt.bar(X5-width/2,Q5,width,color='cyan',label='Distribution empirique')\n",
    "plt.legend()\n",
    "plt.show()"
   ]
  },
  {
   "cell_type": "markdown",
   "id": "60ea11ed",
   "metadata": {},
   "source": [
    "**Exercice :**\n",
    "\n",
    "Pour rappel, la *fonction de répartition* d'une variable réelle $X$ est\n",
    "la fonction croissante $f:x\\mapsto \\mathbb{P}(X\\leq x)$.\n",
    "Dans le cas d'une variable à espace d'états fini, cette fonction est constante par morceaux, et on peut la représenter comme une famille finie de segments horizontaux.\n",
    "\n",
    "On se propose ici de représenter la fonction de répartition de la loi binômiale.\n",
    "\n",
    "<details>\n",
    "<summary><b>Cliquer ici pour un indice sur l'affichage graphique.</b></summary>\n",
    "\n",
    "Comme mentionné dans l'énoncé, on veut représenter une famille finie de segments.\n",
    "On commence par fixer $x_0<x_1$ et $x_{n+1}>x_n$ les bornes de la fenêtre d'affichage.\n",
    "On peut stocker ces $n+2$ réels dans une liste `X`,\n",
    "et définir une liste `Y` de longueur $n+1$ telle que `Y[i]` soit égale à $y_i:=\\mathbb{P}\\left(X\\leq x_i\\right)$.\n",
    "Pour $i\\in\\{ 0,1,\\dots,n \\}$, on veut alors afficher le segment $\\left[ \\left(x_i,y_i\\right),\\left(x_{i+1},y_i\\right)\\right[$. On peut faire ceci en utilisant le code suivant :\n",
    "    \n",
    "```python\n",
    "plt.scatter([X[i]],[Y[i]],marker='o',color='r')\n",
    "plt.plot((X[i],X[i+1]),(Y[i],Y[i]),color='r')\n",
    "```\n",
    "</details>"
   ]
  },
  {
   "cell_type": "code",
   "execution_count": 23,
   "id": "660453fc",
   "metadata": {},
   "outputs": [],
   "source": [
    "# À vous de jouer !"
   ]
  },
  {
   "cell_type": "code",
   "execution_count": 24,
   "id": "cf73666c",
   "metadata": {},
   "outputs": [
    {
     "data": {
      "image/png": "[encoded data removed]",
      "text/plain": [
       "<Figure size 640x480 with 1 Axes>"
      ]
     },
     "metadata": {},
     "output_type": "display_data"
    }
   ],
   "source": [
    "### Correction indicative ###\n",
    "\n",
    "XX = range(-1,n5+2)\n",
    "YY = [0]\n",
    "\n",
    "# On crée les probabilités cumulées en sommant sur la distribution P déjà calculée.\n",
    "\n",
    "for x in P5:\n",
    "    YY.append(YY[-1]+x)\n",
    "\n",
    "# On affiche itérativement les segments.\n",
    "\n",
    "plt.plot((XX[0],XX[1]),(YY[0],YY[0]),color='r')\n",
    "\n",
    "for i in range(1,n5+2):\n",
    "    plt.scatter([XX[i]],[YY[i]],marker='o',color='r')\n",
    "    plt.plot((XX[i],XX[i+1]),(YY[i],YY[i]),color='r')\n",
    "\n",
    "plt.xlim(-1,n5+1)\n",
    "plt.ylim(-0.1,1.1)\n",
    "\n",
    "plt.plot([-1,n5+1],[0,0],color='c',linestyle='dotted')\n",
    "plt.plot([-1,n5+1],[1,1],color='c',linestyle='dotted')\n",
    "\n",
    "plt.xlabel('$x$')\n",
    "plt.ylabel('$\\mathds{P}(X\\leq x)$')\n",
    "plt.title('Fonction de répartition de la loi de $X\\sim\\mathcal{B}('+str(n5)+','+str(p5)+')$')\n",
    "plt.show()"
   ]
  },
  {
   "cell_type": "markdown",
   "id": "7fd95259",
   "metadata": {},
   "source": [
    "## 6. Somme de variables de Poisson indépendantes"
   ]
  },
  {
   "cell_type": "markdown",
   "id": "29b70623",
   "metadata": {},
   "source": [
    "Désormais enrichi par tous ces exemples, votre mission (que vous l'acceptiez ou non) est de comparer la distribution empirique d'une somme de deux lois de Poisson $\\mathcal{P}(a)$ et $\\mathcal{P}(b)$ indépendantes à la distribution théorique attendue $\\mathcal{P}(a+b)$.\n",
    "\n",
    "Cette comparaison se fera sous forme de diagrammes en bâtons. Étant donné que la distribution théorique est à valeurs dans $\\mathbb{N}$ tout entier, on pourra se restreindre aux $20$ premières valeurs par exemple, avec $a=2$ et $b=3$ par exemple."
   ]
  },
  {
   "cell_type": "code",
   "execution_count": 25,
   "id": "ee0e612d",
   "metadata": {},
   "outputs": [],
   "source": [
    "# À vous de jouer !"
   ]
  },
  {
   "cell_type": "code",
   "execution_count": 26,
   "id": "2d4cf4e1",
   "metadata": {},
   "outputs": [
    {
     "data": {
      "image/png": "[encoded data removed]",
      "text/plain": [
       "<Figure size 640x480 with 1 Axes>"
      ]
     },
     "metadata": {},
     "output_type": "display_data"
    }
   ],
   "source": [
    "### Correction indicative ###\n",
    "\n",
    "a6 = 2\n",
    "b6 = 3\n",
    "\n",
    "sample6 = 3000\n",
    "\n",
    "horizon6 = 15\n",
    "\n",
    "from math import factorial, exp\n",
    "\n",
    "def poisson(lam, k): return exp(-lam)*lam**k/factorial(k)\n",
    "\n",
    "X6 = np.arange(horizon6+1)\n",
    "Y6 = [poisson(a6+b6,x) for x in X6]\n",
    "\n",
    "P6 = np.random.poisson(a6,sample6)+np.random.poisson(b6,sample6)\n",
    "Q6 = np.zeros(horizon6+1)\n",
    "for p in P6:\n",
    "    if p <= horizon6:\n",
    "        Q6[p]+=1\n",
    "Q6/=sample6\n",
    "\n",
    "width = 0.15\n",
    "plt.xticks(X6)\n",
    "plt.xlabel('$k$')\n",
    "plt.ylabel('$\\mathds{P}(X=k)$')\n",
    "plt.title('''Étude d'une somme de variables de Poisson indépendantes''')\n",
    "plt.bar(X6+width/2,Y6,width,color='magenta',label='Distribution théorique $\\mathcal{P}('+str(a6+b6)+')$')\n",
    "plt.bar(X6-width/2,Q6,width,color='cyan',label='Distribution empirique $\\mathcal{P}('+str(a6)+')+\\mathcal{P}('+str(b6)+')$')\n",
    "plt.legend()\n",
    "plt.show()"
   ]
  },
  {
   "cell_type": "markdown",
   "id": "f9a2c48e",
   "metadata": {},
   "source": [
    "## 7. Bonus : génération de variables discrètes quelconques (hors programme)"
   ]
  },
  {
   "cell_type": "markdown",
   "id": "9e04c96a",
   "metadata": {},
   "source": [
    "Il peut être parfois intéressant de générer une variable aléatoire avec une loi particulière. Considérons ainsi une variable $X$ à valeurs dans $\\mathbb{N}$ telle que $\\mathbb{P}(X=k)$ soit égal à la valeur `P[k]` de la liste `P`."
   ]
  },
  {
   "cell_type": "code",
   "execution_count": 27,
   "id": "08e0ad6d",
   "metadata": {},
   "outputs": [],
   "source": [
    "P7=[0,0,1/36,2/36,3/36,4/36,5/36,6/36,5/36,4/36,3/36,2/36,1/36]"
   ]
  },
  {
   "cell_type": "markdown",
   "id": "b934a7e4",
   "metadata": {},
   "source": [
    "Quel phénomène aléatoire est modélisé par la loi ci-avant ?\n",
    "\n",
    "<details>\n",
    "<summary><b>Cliquer ici pour afficher la réponse.</b></summary>\n",
    "\n",
    "Ici, $X$ est la loi de la somme de deux dés à 6 faces indépendants.\n",
    "</details>"
   ]
  },
  {
   "cell_type": "code",
   "execution_count": 28,
   "id": "cb9ab5ae",
   "metadata": {},
   "outputs": [
    {
     "data": {
      "text/plain": [
       "1.0000000000000002"
      ]
     },
     "execution_count": 28,
     "metadata": {},
     "output_type": "execute_result"
    }
   ],
   "source": [
    "sum(P7)"
   ]
  },
  {
   "cell_type": "markdown",
   "id": "62032492",
   "metadata": {},
   "source": [
    "Il faut en théorie que `sum(P)` soit égal à $1$, mais on constate le cumul d'erreurs numériques. Pour contourner ce souci, il faut en pratique prévoir assez de décimales pour que ce terme d'erreur numérique soit négligeable (ce qui est le cas ici), ou bien utiliser des méthodes plus avancées comme le stockage de couples d'entiers $(p,q)$ pour encoder sans erreur les rationnels $\\frac{p}{q}$."
   ]
  },
  {
   "cell_type": "markdown",
   "id": "c776d42f",
   "metadata": {},
   "source": [
    "La fonction `random()` retourne un nombre *réel* $U$ uniformément choisi dans $[0,1]$. En particulier, pour tous $0\\leq a\\leq b\\leq 1$, on a $\\mathbb{P}(a\\leq U\\leq b)=b-a$. Étant donné un tel tableau `P`, en utilisant le théorème de transfert sur la variable $U$, on peut générer un tirage aléatoire de $X$ comme suit :"
   ]
  },
  {
   "cell_type": "code",
   "execution_count": 29,
   "id": "d51640a4",
   "metadata": {},
   "outputs": [],
   "source": [
    "def random_sample(P):\n",
    "    u = rand.random()\n",
    "    x=0\n",
    "    \n",
    "    while P[x] < u :\n",
    "        u -= P[x]\n",
    "        x += 1\n",
    "    return x"
   ]
  },
  {
   "cell_type": "markdown",
   "id": "843d8fdc",
   "metadata": {},
   "source": [
    "En particulier, `P=[1-p,p]` permet de générer une variable suivant une loi de Bernoulli $\\mathcal{B}(p)$."
   ]
  },
  {
   "cell_type": "code",
   "execution_count": 30,
   "id": "94b8a342",
   "metadata": {},
   "outputs": [
    {
     "data": {
      "text/plain": [
       "6"
      ]
     },
     "execution_count": 30,
     "metadata": {},
     "output_type": "execute_result"
    }
   ],
   "source": [
    "random_sample(P7)"
   ]
  },
  {
   "cell_type": "markdown",
   "id": "5e1e1214",
   "metadata": {},
   "source": [
    "$\\mathcal{FIN}$"
   ]
  }
 ],
 "metadata": {
  "kernelspec": {
   "display_name": "Python 3 (ipykernel)",
   "language": "python",
   "name": "python3"
  },
  "language_info": {
   "codemirror_mode": {
    "name": "ipython",
    "version": 3
   },
   "file_extension": ".py",
   "mimetype": "text/x-python",
   "name": "python",
   "nbconvert_exporter": "python",
   "pygments_lexer": "ipython3",
   "version": "3.10.6"
  }
 },
 "nbformat": 4,
 "nbformat_minor": 5
}
