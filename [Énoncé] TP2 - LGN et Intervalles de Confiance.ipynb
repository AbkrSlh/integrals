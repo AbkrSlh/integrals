{
 "cells": [
  {
   "cell_type": "markdown",
   "id": "90d03007",
   "metadata": {},
   "source": [
    "# TP2 : Statististiques élémentaires, loi des grands nombres et intervalles de confiance"
   ]
  },
  {
   "cell_type": "markdown",
   "id": "d5add66b",
   "metadata": {},
   "source": [
    "Dans ce second TP, on va s'intéresser plus en détail à des résultats classiques de statistiques, notamment en ce qui concerne l'approximmation de l'espérance d'une variable aléatoire.\n",
    "\n",
    "Commençons par charger les bibliothèques standard dont nous aurons besoin."
   ]
  },
  {
   "cell_type": "code",
   "execution_count": null,
   "id": "9eea5474",
   "metadata": {},
   "outputs": [],
   "source": [
    "%matplotlib inline\n",
    "\n",
    "import numpy as np\n",
    "import matplotlib.pyplot as plt"
   ]
  },
  {
   "cell_type": "markdown",
   "id": "d3c4c23b",
   "metadata": {},
   "source": [
    "## 1. Lecture graphique des quantiles sur la fonction de répartition"
   ]
  },
  {
   "cell_type": "markdown",
   "id": "977bda6e",
   "metadata": {},
   "source": [
    "Reprenons ici le code du TP1 pour l'affichage de la fonction de répartition d'une loi binômiale. Un corrigé est fourni à titre indicatif mais vous pouvez également utiliser votre propre code d'affichage."
   ]
  },
  {
   "cell_type": "code",
   "execution_count": null,
   "id": "7be41d8f",
   "metadata": {
    "scrolled": false
   },
   "outputs": [],
   "source": [
    "from math import comb\n",
    "# comb(n,k) retourne le coefficient binômial « k parmi n ».\n",
    "\n",
    "def binom(n,p,k):\n",
    "    if k <= n and k >= 0 :\n",
    "        return comb(n,k)*p**k*(1-p)**(n-k)\n",
    "    else:\n",
    "        return 0\n",
    "\n",
    "n=30\n",
    "p=.3\n",
    "\n",
    "X = np.arange(n+1)\n",
    "P = [binom(n,p,k) for k in X]\n",
    "\n",
    "X = range(-1,n+2)\n",
    "Y = [0]\n",
    "\n",
    "# On crée les probabilités cumulées en sommant sur la distribution P déjà calculée.\n",
    "for x in P:\n",
    "    Y.append(Y[-1]+x)\n",
    "\n",
    "# Permet d'afficher des formules mathématiques en légende\n",
    "plt.rcParams['text.usetex'] = True\n",
    "plt.rcParams['font.family'] = 'Computer Modern'\n",
    "plt.rcParams['text.latex.preamble'] = r'\\usepackage{dsfont}'\n",
    "\n",
    "plt.xticks(X)\n",
    "plt.grid(linestyle='dotted')\n",
    "\n",
    "# On affiche itérativement les segments.\n",
    "\n",
    "plt.plot((X[0],X[1]),(Y[0],Y[0]),color='r')\n",
    "\n",
    "for i in range(1,n+2):\n",
    "    plt.plot((X[i],X[i]),(Y[i-1],Y[i]),color='r',linestyle='dotted')\n",
    "    plt.scatter([X[i]],[Y[i]],marker='o',color='r')\n",
    "    plt.plot((X[i],X[i+1]),(Y[i],Y[i]),color='r')\n",
    "\n",
    "plt.xlim(-1,n+1)\n",
    "plt.ylim(-0.1,1.1)\n",
    "\n",
    "plt.plot([-1,n+1],[0,0],color='c',linestyle='dotted')\n",
    "plt.plot([-1,n+1],[1,1],color='c',linestyle='dotted')\n",
    "\n",
    "plt.xlabel('$x$')\n",
    "plt.ylabel('$\\mathds{P}(X\\leq x)$')\n",
    "plt.title('Fonction de répartition de la loi de $X\\sim\\mathcal{B}('+str(n)+','+str(p)+')$')\n",
    "\n",
    "# Code à compléter\n",
    "\n",
    "plt.show()"
   ]
  },
  {
   "cell_type": "markdown",
   "id": "e5d0aa4e",
   "metadata": {},
   "source": [
    "On se propose désormais de compléter le code pour afficher les droites horizontales correspondants au premier quartile, au troisième quartile et à la médiane. Comment lit-on graphiquement ces données ?\n",
    "\n",
    "<details>\n",
    "<summary><b>Cliquer ici pour afficher la réponse.</b></summary>\n",
    "\n",
    "Il suffit de regarder où les droites horizontales traverse la fonction de répartition. Si cette droite traverse un saut de la fonction (en pointillés rouge dans la correction indicative), on considère que l'intersection a lieu à cette position.\n",
    "En revanche, si notre droite tombe pile sur une partie constante de la fonction, il n'y a pas façon uniquement déterminée de choisir le quantile, et on peut arrondir à droite, à gauche ou faire une moyenne.\n",
    "On fera ici le choix de convention de l'arrondi à gauche.\n",
    "</details>"
   ]
  },
  {
   "cell_type": "code",
   "execution_count": null,
   "id": "eea3099d",
   "metadata": {},
   "outputs": [],
   "source": [
    "# À vous de jouer !"
   ]
  },
  {
   "cell_type": "markdown",
   "id": "e5fb89f7",
   "metadata": {},
   "source": [
    "## 2. Étude de la loi binômiale et diagrammes en boîte à moustache"
   ]
  },
  {
   "cell_type": "markdown",
   "id": "af6f360a",
   "metadata": {},
   "source": [
    "On va premièrement utiliser le module `numpy` pour étudier quelques propriétés empirique d'un échantillon aléatoire."
   ]
  },
  {
   "cell_type": "markdown",
   "id": "45cae713",
   "metadata": {},
   "source": [
    "**Exercice :**\n",
    "\n",
    "1. Créer un échantillon de taille `n=10` d'une loi binomiale $\\mathcal{B}(30,0.3)$ dans le bloc 1.\n",
    "2. Calculer sa moyenne `m1` (avec la fonction `np.average`) et son écart-type  `s1` (avec `np.std`) dans le bloc 2.\n",
    "3. Calculer la liste des quartiles `Q1` (avec la fonction `np.quantile`).\n",
    "4. Répéter les questions précédentes dans le bloc 3, avec un échantillon de taille $100$ (dans des variables `m2`, `s2` et `Q2`), puis $1000$ (dans des variables `m3`, `s3` et `Q3`).\n",
    "5. Comparer les résultats avec la valeur théorique attendue dans le bloc 4."
   ]
  },
  {
   "cell_type": "code",
   "execution_count": null,
   "id": "2d97075a",
   "metadata": {},
   "outputs": [],
   "source": [
    "### BLOC 1 ###\n",
    "\n",
    "n1 = 10\n",
    "\n",
    "def echantillon(n):\n",
    "    L=[]\n",
    "    # Code à compléter\n",
    "    return L\n",
    "\n",
    "L1 = echantillon(n)"
   ]
  },
  {
   "cell_type": "code",
   "execution_count": null,
   "id": "035a38b9",
   "metadata": {},
   "outputs": [],
   "source": [
    "### BLOC 2 ###\n",
    "\n",
    "m1 = None\n",
    "s1 = None\n",
    "Q1 = None"
   ]
  },
  {
   "cell_type": "code",
   "execution_count": null,
   "id": "f9595206",
   "metadata": {},
   "outputs": [],
   "source": [
    "### BLOC 3 ###\n",
    "\n",
    "n2 = 100\n",
    "L2 = echantillon(n2)\n",
    "\n",
    "m2 = None\n",
    "s2 = None\n",
    "Q2 = None\n",
    "\n",
    "n3 = 10000\n",
    "L3 = echantillon(n3)\n",
    "\n",
    "m3 = None\n",
    "s3 = None\n",
    "Q3 = None"
   ]
  },
  {
   "cell_type": "code",
   "execution_count": null,
   "id": "787220ee",
   "metadata": {},
   "outputs": [],
   "source": [
    "### BLOC 4 ###"
   ]
  },
  {
   "cell_type": "markdown",
   "id": "5a9e5cd3",
   "metadata": {},
   "source": [
    "Les diagrammes en boîte à moustaches (*box plot* en anglais) permettent, dans une certaine mesure, de représenter graphiquement les quantiles d'une distribution.\n",
    "On peut afficher un boxplot via la fonction `plt.boxplot(L,labels=[mot])`, où `L` est un échantillon aléatoire, et `mot` le mot (optionnel) correspondant sur l'axe horizontal. Si on veut juxtaposer plusieurs boîtes, on remplacera `L` par une *liste* d'échantillons (donc une *liste de listes*), et on affectera une liste de mots à `label`.\n",
    "\n",
    "**Exercice :**\n",
    "\n",
    "1. Afficher le boxplot correspondant aux échantillons `L1`, `L2` et `L3` précédemment générés.\n",
    "2. Afficher les droites horizontales correspondant aux valeurs théoriques des quantiles observées dans la première partie."
   ]
  },
  {
   "cell_type": "code",
   "execution_count": null,
   "id": "6f92a9da",
   "metadata": {},
   "outputs": [],
   "source": [
    "# À vous de jouer !"
   ]
  },
  {
   "cell_type": "markdown",
   "id": "3aeab6eb",
   "metadata": {},
   "source": [
    "La boite centrale correspondant à un échantillon représente les quartiles empiriques, avec la médiane au milieu.\n",
    "Ainsi, on constate que lorsque la taille de l'échantillon devient assez grande, ces quartiles semblent converger vers les valeurs théoriques attendues.\n",
    "\n",
    "Le comportement des moustaches est un peu plus subtil. Par défaut, leur longueur est déterminée par la taille de la boite centrale et les aberrations qui en sortent sont représentés par des points. Cependant, si aucune valeur ne dépasse de la moustache dans une des directions, alors la moustache en question est raccourcie pour s'arrêter au minimum/maximum de l'échantillon. Une définition plus précise des boîtes des disponible dans [la documentation](https://matplotlib.org/stable/api/_as_gen/matplotlib.pyplot.boxplot.html).\n",
    "\n",
    "Le point à retenir est que la *taille* de la boite et de ses moustaches n'est pas un indicateur de la qualité d'approximmation, puisqu'elle aura tendance à grandir jusqu'à seuil, alors même qu'on constate empiriquement que la qualité d'approximmation des quarties *augmente* avec la taille de l'échantillon."
   ]
  },
  {
   "cell_type": "markdown",
   "id": "172b61a9",
   "metadata": {},
   "source": [
    "## 3. La méthode de Monte-Carlo"
   ]
  },
  {
   "cell_type": "markdown",
   "id": "2e0d6afc",
   "metadata": {},
   "source": [
    "L'idée générale de la méthode de Monte-Carlo est d'estimer numériquement l'espérance d'une variable aléatoire à partir des moyennes empiriques d'un processus aléatoire. On se propose ici d'observer une version assez naïve de la méthode, basée sur la loi forte des grands nombres."
   ]
  },
  {
   "cell_type": "markdown",
   "id": "25d34ef4",
   "metadata": {},
   "source": [
    "**Théorème : Loi Forte des Grands Nombres (LFGN)**\n",
    "\n",
    "Considérons $\\left(X_i\\right)_{i\\in\\mathbb{N}^*}$ une suite de variables aléatoires réelles iid et intégrables, c'est-à-dire $\\mathbb{E}\\left[\\left|X_1\\right|\\right]<\\infty$. Posons alors $\\mu:=\\mathbb{E}\\left[X_1\\right]$ leur espérance commune.\n",
    "On définit les moyennes empiriques (aléatoires) comme suit:\n",
    "$$\n",
    "\\overline{X_n}:=\\frac{1}{n}\\sum\\limits_{i=1}^{n} X_i .\n",
    "$$\n",
    "On a alors la convergence presque-sûre $\\overline{X_n}\\overset{\\mathrm{p.s.}}{\\longrightarrow}\\mu$."
   ]
  },
  {
   "cell_type": "markdown",
   "id": "486c93f2",
   "metadata": {},
   "source": [
    "**Exercice :**\n",
    "\n",
    "On veut ici observer et représenter graphiquement cette convergence des moyennes empiriques pour une loi géométrique de paramètre `p=0.1`.\n",
    "1. Dans le bloc 1, complétez le code pour que la fonction echantillon retourne une liste de $k$ tirages indépendants sous la loi géométrique (on pourra utiliser la bibliothèque `np.random`).\n",
    "2. Dans le bloc 2, complétez le code pour que la fonction moyennes_empiriques retourne la liste `M` des moyennes empiriques associée à une liste de tirages `L`.\n",
    "3. Dans le bloc 3, afficher la droite horizontale d'équation $y=\\mu$ et un nuage de points (avec [`plt.scatter`](https://matplotlib.org/stable/api/_as_gen/matplotlib.pyplot.scatter.html)) aux coordonnées $\\left(i,\\overline{X_i}\\right)_{1\\leq i \\leq 100}$.\n",
    "4. Faites varier la valeur de `p` utilisée dans le bloc 1. Que constatez-vous ?"
   ]
  },
  {
   "cell_type": "code",
   "execution_count": null,
   "id": "2baa628e",
   "metadata": {},
   "outputs": [],
   "source": [
    "### BLOC 1 ###\n",
    "\n",
    "p = 0.1\n",
    "k = 100\n",
    "\n",
    "def echantillon(k):\n",
    "    # Code à compléter\n",
    "    return L"
   ]
  },
  {
   "cell_type": "code",
   "execution_count": null,
   "id": "fad4b929",
   "metadata": {},
   "outputs": [],
   "source": [
    "### BLOC 2 ###\n",
    "\n",
    "def moyennes_empiriques(L):\n",
    "    # Code à compléter\n",
    "    return M"
   ]
  },
  {
   "cell_type": "code",
   "execution_count": null,
   "id": "a7dd1dba",
   "metadata": {},
   "outputs": [],
   "source": [
    "### BLOC 3 ###\n",
    "\n",
    "# À vous de jouer."
   ]
  },
  {
   "cell_type": "markdown",
   "id": "92e5e776",
   "metadata": {},
   "source": [
    "## 4. Intervalles et estimations via l'inégalité de Bienaymé-Tchebychev"
   ]
  },
  {
   "cell_type": "markdown",
   "id": "dfcbc08f",
   "metadata": {},
   "source": [
    "### 4.1 Intervalles de Confiance"
   ]
  },
  {
   "cell_type": "markdown",
   "id": "2b416160",
   "metadata": {},
   "source": [
    "On veut dans cet exercice manipuler et afficher des intervalles de confiance.\n",
    "On a déjà vu ci-avant que la moyenne empirique $\\overline{X_n}$ sur une série de tirages *iid* converge\n",
    "vers la moyenne attendue lorsque $n\\to\\infty$.\n",
    "Par exemple, dans le cas de variables de Bernoulli $\\mathcal{B}(p)$, on convergera vers le paramètre $p$ en question.\n",
    "Cela ne nous indique en rien à quelle *vitesse* cette convergence se produit.\n",
    "\n",
    "C'est là que les intervalles de confiance entrent en jeu.\n",
    "Considérons ici l'intervalle (aléatoire) $I_n := \\left[ \\overline{X_n}-\\frac{a}{\\sqrt{n}},\\overline{X_n}+\\frac{a}{\\sqrt{n}}\\right]$.\n",
    "Dans ce contexte, en remarquant que $p=\\mathbb{E}\\left[\\overline{X_n}\\right]$ par linéarité de l'espérance,\n",
    "l'inégalité de Tchebychev nous donne :\n",
    "$$\n",
    "\\mathbb{P}\\left(I_n\\ni p\\right) = \\mathbb{P}\\left(\\left|\\overline{X_n}-\\mathbb{E}\\left[\\overline{X_n}\\right]\\right|\\leq \\frac{a}{\\sqrt{n}}\\right) \\geq 1- \\frac{n}{a^2}\\text{Var}\\left(\\overline{X_n}\\right) = 1-\\frac{\\text{Var}\\left(X_1\\right)}{a^2}\n",
    "=1-\\frac{p(1-p)}{a^2}\\geq 1-\\frac{1}{4a^2} .\n",
    "$$\n",
    "\n",
    "On parle d'intervalle de confiance de niveau $x\\%$ lorsque $\\mathbb{P}\\left(I_n\\ni p\\right)\\geq \\frac{x}{100}$.\n",
    "Ainsi, le choix $a=1$ nous donne ici un intervalle de cofiance de niveau $75\\%$ indépendamment du choix de $p$.\n",
    "Le standard communément accepté en sciences expérimentales est un niveau de confiance à $95\\%$:\n",
    "il faudra ici choisir $a\\geq \\sqrt{5}\\approx 2.24$ pour atteindre ce niveau de confiance.\n",
    "\n",
    "Cette notion est utile pour de l'estimation de paramètres parmi une famille de modèles. Elle est notamment utilisée dans le cadre de sondages, où les question binaires oui/non impliquent de fait une loi de Bernoulli sur les réponses, par exemple."
   ]
  },
  {
   "cell_type": "markdown",
   "id": "0b073f91",
   "metadata": {},
   "source": [
    "**Exercice :**\n",
    "\n",
    "1. Dans le bloc 1, compléter le code de la fonction `moyenne(n,p)` pour qu'elle retourne la moyenne empirique $\\overline{X_n}$ de lois *iid* $\\mathcal{B}(p)$.\n",
    "2. Dans le bloc 2, fixer `p=0.5` représenter graphiquement la suite d'intervalles $\\left[Y_n-\\frac{\\sqrt{5}}{\\sqrt{n}},Y_n+\\frac{\\sqrt{5}}{\\sqrt{n}}\\right]$, où les variables $Y_n$ sont les moyennes empiriques (indépendantes !) retournées par la fonction `moyenne(n,p)`, pour $n$ allant de $1$ à $50$. On affichera également la droite horizontale d'équation $y=p$. Pour les valeurs de $n$ à considérer on pourra se restreindre aux dizaines jusqu'à $1000$."
   ]
  },
  {
   "cell_type": "code",
   "execution_count": null,
   "id": "a1e25f4a",
   "metadata": {},
   "outputs": [],
   "source": [
    "### BLOC 1 ###\n",
    "\n",
    "def moyenne(n,p):\n",
    "    # Code à compléter\n",
    "    return moy"
   ]
  },
  {
   "cell_type": "code",
   "execution_count": null,
   "id": "028a927b",
   "metadata": {},
   "outputs": [],
   "source": [
    "### BLOC 2 ###\n",
    "\n",
    "# À vous de jouer."
   ]
  },
  {
   "cell_type": "markdown",
   "id": "2392aa54",
   "metadata": {},
   "source": [
    "On constate graphiquement deux points.\n",
    "\n",
    "D'une part, la convergence en $\\frac{1}{\\sqrt{n}}$ est en réalité assez lente, puiqsue pour gagner une décimale de précision il faut multiplier par $100$ la taille de l'échantillon.\n",
    "Ce comportement est assez intrinsèque aux méthodes d'estimation générales, d'où la nécessité de choisir un bon compromis entre précision (grand échantillon de données) et temps de calcul/génération dudit échantillon.\n",
    "\n",
    "D'autre part, bien qu'on génère un intervalle au niveau $95\\%$, il est virtuellement *impossible* d'observer ici un tirage tel que $p\\notin I_n$, et ce même sur plusieurs centaines de réalisations.\n",
    "Cela vient du fait que l'inégalité de Chebychev est en fait assez large en toute généralité, et ne donne pas de bonnes estimations. En pratique, on utilise plutôt des intervalles de confiance basés sur le TCL (hors-programme, voir exercice bonus)."
   ]
  },
  {
   "cell_type": "markdown",
   "id": "e8ece52f",
   "metadata": {},
   "source": [
    "### 4.2 Intervalles de Fluctuation"
   ]
  },
  {
   "cell_type": "markdown",
   "id": "6301a6e7",
   "metadata": {},
   "source": [
    "L'idée générale des intervalles de confiance est de supposer qu'on connaît la loi de $X$ à un paramètre près, généralement déterminé par $\\mathbb{E}[X]$, et d'utiliser une inégalité de concentration autour de la moyenne empirique $\\overline{X_n}$ \n",
    "(et notamment l'inégalité de Chebychev) pour estimer l'espérance avec une certaine précision.\n",
    "\n",
    "On peut, en utilisant la même inégalité, adopter un point de vue dual, conjecturer une loi pour la variable $X$, et considérer un intervalle *déterministe* $J_n = \\left[p-\\frac{1}{\\sqrt{n}},p+\\frac{1}{\\sqrt{n}}\\right]$ pour vérifier si l'évènement $\\overline{X_n} \\in J_n$ est réalisé.\n",
    "Dans le cas où cet évènement n'est pas réalisé, on peut conclure avec *forte probabilité* que $X$ ne suit pas initialement la loi conjecturée, que notre modèle de départ est inadapté.\n",
    "\n",
    "Considérons par exemple une succession de 1600 *pile ou face* indépendants mais réalisés avec la même pièce, supposée équilibrée.\n",
    "Sur ces 1600 tirages, seulement 630 sont tombés du côté *face*.\n",
    "Cette observation est-elle anormale ?\n",
    "\n",
    "<details>\n",
    "<summary><b>Cliquer ici pour afficher la réponse.</b></summary>\n",
    "\n",
    "On s'attend *a priori* à ce que la pièce soit équilibrée, autrement dit à avoir $p=0.5$.\n",
    "Dans ce cas, $J_{1600}=\\left[\\frac{19}{40},\\frac{21}{40}\\right]$.\n",
    "On constate que $\\overline{X_{1600}}\\notin J_{1600}$, ce qui indique avec forte probabilité\n",
    "que la pièce n'est *pas* équilibrée, que $p\\neq 0.5$.\n",
    "</details>\n",
    "\n"
   ]
  },
  {
   "cell_type": "markdown",
   "id": "dc8e1ea3",
   "metadata": {},
   "source": [
    "## 5. Bonus : Constatation empirique du TCL et intervalles de confiance (hors programme)\n",
    "\n",
    "Le [Théorème Central Limite](https://fr.wikipedia.org/wiki/Th%C3%A9or%C3%A8me_central_limite) (TCL) est un résultat général de convergence en loi vers une [loi normale](https://fr.wikipedia.org/wiki/Loi_normale) centrée réduite $\\mathcal{N}(0,1)$, \n",
    "valable pour des variables aléatoires de variance finie.\n",
    "Ici, la loi normale n'est pas une variable discrète, mais réelle à densité continue."
   ]
  },
  {
   "cell_type": "markdown",
   "id": "51fa8c67",
   "metadata": {},
   "source": [
    "**Théorème :**\n",
    "\n",
    "Supposons que les variables $\\left(X_n\\right)$ sont *iid* d'espérance $\\mu$ et de variance finie.\n",
    "Posons $\\sigma_n := \\sqrt{\\frac{1}{n} \\sum_{i=1}^n \\left(X_i-\\overline{X_n}\\right)^2}$ l'écart-type empirique.\n",
    "Posons $Z_n = \\sqrt{n}\\times\\frac{\\overline{X_n}-\\mu}{\\sigma_n}$.\n",
    "Alors on a la convergence en loi $Z_n\\overset{\\mathcal{L}}{\\longrightarrow} Z$ avec $Z\\sim \\mathcal{N}(0,1)$ une gaussienne centrée réduite.\n",
    "\n",
    "Dans ce contexte, la convergence en loi signifie que pour tous réels $a\\leq b$, on a $\\mathbb{P}\\left(a\\leq Z_n\\leq b\\right) \\underset{n\\to\\infty}{\\longrightarrow} \\mathbb{P}\\left(a\\leq Z\\leq b\\right)$."
   ]
  },
  {
   "cell_type": "markdown",
   "id": "31ebfef8",
   "metadata": {},
   "source": [
    "**Exercice :**\n",
    "\n",
    "On se propose de visualiser cette convergence en loi sous la forme d'un histogramme. Pour ce faire, on choisit au préalable une valeur de $n$, disons $n=700$.\n",
    "\n",
    "1. Définir une fonction `tirage(n,p)` qui retourne un tirage sous la loi $Z_n$ ci-avant, en partant de variables $X_i\\sim\\mathcal{B}(p)$. Pour ce faire, on pourra commencer par générer un échantillon de taille $n$, puis calculer sa moyenne empirique (avec `np.mean`) et son écart-type empirique (avec `np.std`).\n",
    "2. Générer un échantillon de $k=3000$ tirages indépendants de la variable $Z_n$.\n",
    "3. Représenter graphiquement la loi empirique de cet échantillon à l'aide de la fonction `plt.hist` (voir [la documentation](https://matplotlib.org/stable/api/_as_gen/matplotlib.pyplot.hist.html))."
   ]
  },
  {
   "cell_type": "code",
   "execution_count": null,
   "id": "ecc0721c",
   "metadata": {},
   "outputs": [],
   "source": [
    "# À vous de jouer."
   ]
  },
  {
   "cell_type": "markdown",
   "id": "0ab72c04",
   "metadata": {},
   "source": [
    "**Exercice :**\n",
    "\n",
    "On se propose désormais d'exploiter cette convergence en loi pour obtenir de meilleurs intervalles de confiance que dans la section précédente.\n",
    "Tel quel, le TCL ne donne pas de vitesse de convergence pour $\\mathbb{P}\\left(a\\leq Z_n\\leq b\\right) \\underset{n\\to\\infty}{\\longrightarrow} \\mathbb{P}\\left(a\\leq Z\\leq b\\right)$. Cette vitesse dépend de la loi des $X_i$, et notamment de leur variance, il faut donc la prendre en compte précautioneusement dans des applications réelles.\n",
    "Dans le cadre de cet exercice, on va admettre que, pour $n\\geq 30$, l'approximmation est de suffisamment bonne qualité,\n",
    "de sorte que $\\mathbb{P}\\left(\\mu\\in\\left[\\overline{X_n}-\\sigma_n\\frac{a}{\\sqrt{n}},\\overline{X_n}+\\sigma_n\\frac{a}{\\sqrt{n}}\\right] \\right)\\approx \\mathbb{P}(|Z|\\leq a)$.\n",
    "\n",
    "On admettra alors que pour une gaussienne centrée réduite $Z$, $a=2$ suffit à garantir un niveau de confiance de $95\\%$."
   ]
  },
  {
   "cell_type": "code",
   "execution_count": null,
   "id": "6c7b9625",
   "metadata": {},
   "outputs": [],
   "source": [
    "# À vous de jouer."
   ]
  },
  {
   "cell_type": "markdown",
   "id": "00b4449c",
   "metadata": {},
   "source": [
    "On peut ainsi constater, en superposant les intervalles à $95\\%$ données par l'inégalité de Chebychev et l'approximation gaussienne, que les seconds sont systématiquement plus petits, et correspondent de façon bien plus proche au seuil de $95\\%$ annoncé puisque on peut observer à l'œil nu de (rares) instances d'intervalles qui ne contiennent pas la valeur $p=0.5$ attendue."
   ]
  },
  {
   "cell_type": "markdown",
   "id": "ca41ea9b",
   "metadata": {},
   "source": [
    "$\\mathcal{FIN}$"
   ]
  }
 ],
 "metadata": {
  "kernelspec": {
   "display_name": "Python 3 (ipykernel)",
   "language": "python",
   "name": "python3"
  },
  "language_info": {
   "codemirror_mode": {
    "name": "ipython",
    "version": 3
   },
   "file_extension": ".py",
   "mimetype": "text/x-python",
   "name": "python",
   "nbconvert_exporter": "python",
   "pygments_lexer": "ipython3",
   "version": "3.10.6"
  }
 },
 "nbformat": 4,
 "nbformat_minor": 5
}
