{
 "cells": [
  {
   "cell_type": "code",
   "execution_count": 1,
   "metadata": {
    "collapsed": false
   },
   "outputs": [
    {
     "name": "stdout",
     "output_type": "stream",
     "text": [
      "Populating the interactive namespace from numpy and matplotlib\n"
     ]
    }
   ],
   "source": [
    "%pylab inline"
   ]
  },
  {
   "cell_type": "markdown",
   "metadata": {},
   "source": [
    "# Tracer un graphe"
   ]
  },
  {
   "cell_type": "markdown",
   "metadata": {},
   "source": [
    "Examiner le code suivant qui trace le graphe de la fonction \n",
    "$$\n",
    "f\\colon x\\mapsto x \\sin x\n",
    "$$\n",
    "sur $[0,2\\pi]$."
   ]
  },
  {
   "cell_type": "code",
   "execution_count": 2,
   "metadata": {
    "collapsed": false
   },
   "outputs": [
    {
     "data": {
      "image/png": "[encoded data removed]",
      "text/plain": [
       "<matplotlib.figure.Figure at 0x7f4ee0789090>"
      ]
     },
     "metadata": {},
     "output_type": "display_data"
    }
   ],
   "source": [
    "#definition de la fonction\n",
    "def f(x):\n",
    "    y=x*sin(x)\n",
    "    return y\n",
    "\n",
    "#discretisation des abscisses\n",
    "a=0\n",
    "b=2*pi\n",
    "n=100\n",
    "X=linspace(a,b,n)\n",
    "\n",
    "#calcul des ordonnées\n",
    "Y=zeros(n)\n",
    "for i in range(n):\n",
    "    Y[i]=f(X[i])\n",
    "    \n",
    "#tracé du graphe\n",
    "plot(X,Y)\n",
    "\n",
    "#axe des abscisses\n",
    "plot([a,b],[0,0],'k-')\n",
    "\n",
    "#grille\n",
    "grid()\n"
   ]
  },
  {
   "cell_type": "code",
   "execution_count": 3,
   "metadata": {
    "collapsed": true
   },
   "outputs": [],
   "source": [
    "#pour des infos sur la commande plot et ses arguments optionnels\n",
    "\n",
    "?plot"
   ]
  },
  {
   "cell_type": "markdown",
   "metadata": {},
   "source": [
    "Tracer les graphes de $\\exp$ et $x\\mapsto x^3$ sur $[-1,1]$"
   ]
  },
  {
   "cell_type": "code",
   "execution_count": null,
   "metadata": {
    "collapsed": false
   },
   "outputs": [],
   "source": [
    "\n"
   ]
  },
  {
   "cell_type": "markdown",
   "metadata": {},
   "source": [
    "# Méthodes d'intégration numérique"
   ]
  },
  {
   "cell_type": "markdown",
   "metadata": {},
   "source": [
    "## Méthodes élémentaires "
   ]
  },
  {
   "cell_type": "markdown",
   "metadata": {},
   "source": [
    "Les méthodes élémentaires remplacent l'intégrale d'une fonction $f$ sur $[a,b]$ par l'intégrale $J(f,a,b)$ \n",
    "d'une fonction plus simple: constante, affine, parabole, etc.\n",
    "\n",
    "**Rectangle à gauche:** on remplace $f$ par la fonction constante égale à sa valeur en $a$,\n",
    "\n",
    "$$\n",
    "J^{R}(f,a,b)=(b-a) f(a).\n",
    "$$\n",
    "\n",
    "**Point-milieu:** on remplace $f$ par la fonction constante égale à sa valeur en $m=\\frac{a+b}{2}$,\n",
    "\n",
    "$$\n",
    "J^{PM}(f,a,b)=(b-a)f\\left(m\\right).\n",
    "$$\n",
    "\n",
    "**Trapèze:** on remplace $f$ par la fonction affine qui coïncide avec $f$ en $a$ et en $b$,\n",
    "\n",
    "$$\n",
    "J^T(f,a,b) =(b-a)\\frac{f(a)+f(b)}{2}.\n",
    "$$\n",
    "\n",
    "**Simpson:** on remplace $f$ par le polynôme $\\tilde f$ de degré 2 qui coïncide avec $f$ en $a$, $m=\\frac{a+b}{2}$ et $b$, c'est-à-dire,\n",
    "\n",
    "\\begin{align*}\n",
    "\\tilde f(x) & =f(a)\\frac{(x-m)(x-b)}{(a-m)(a-b)} +f(m)\\frac{(x-a)(x-b)}{(m-a)(m-b)} \n",
    "+f(b) \\frac{(x-a)(x-m)}{(b-a)(b-m)},\n",
    "\\end{align*}\n",
    "\n",
    "ce qui donne, après calcul,\n",
    "\n",
    "$$\n",
    "J^{S}(f,a,b)=(b-a)\\frac{f(a)+4f(m)+f(b) }{6}.\n",
    "$$\n",
    "\n"
   ]
  },
  {
   "cell_type": "markdown",
   "metadata": {},
   "source": [
    "Ecrire des fonctions **Rectangle**, **PointMilieu**, **Trapeze**, **Simpson**, qui pour les entrées $f,a,b$, retournent la valeur $J(f,a,b)$ obtenue par la méthode élémentaire correspondante."
   ]
  },
  {
   "cell_type": "code",
   "execution_count": null,
   "metadata": {
    "collapsed": true
   },
   "outputs": [],
   "source": []
  },
  {
   "cell_type": "markdown",
   "metadata": {},
   "source": [
    "Tester ces méthodes élémentaires avec les monômes $x\\mapsto 1,x,x^2,x^3,x^4$ sur $[0,1]$. Que remarque-t-on?"
   ]
  },
  {
   "cell_type": "code",
   "execution_count": null,
   "metadata": {
    "collapsed": false
   },
   "outputs": [],
   "source": []
  },
  {
   "cell_type": "markdown",
   "metadata": {},
   "source": [
    "## Méthodes composites"
   ]
  },
  {
   "cell_type": "markdown",
   "metadata": {},
   "source": [
    "L'idée des méthodes composites est d'utiliser une subdivision $a = x_0 < x_1 < ... < x_n = b$ de $[a,b]$, de sorte que\n",
    "\n",
    "$$\n",
    "\\int_a^b f(x)\\, dx\n",
    "=\\int_{x_0}^{x_1} f(x)\\, dx + \\cdots +\\int_{x_{n-1}}^{x_n} f(x)\\, dx,\n",
    "$$\n",
    "\n",
    "et d'approximer chaque intégrale sur $[x_i,x_{i+1}]$ par une méthode élémentaire $J(f,x_i,x_{i+1})$.\n",
    "\n",
    "En pratique on utilisera un découpage régulier de l'intervalle $[a,b]$:\n",
    "\n",
    "$$\n",
    "x_i =a + i \\frac{b-a}{n},\\qquad i=0,1,\\ldots, n,\n",
    "$$\n",
    "et l'approximation donnée par la méthode composite est\n",
    "\n",
    "$$\n",
    "J_c(f,a,b,n)=J(f,x_0,x_1) + \\cdots + J(f,x_{n-1},x_n).\n",
    "$$\n"
   ]
  },
  {
   "cell_type": "markdown",
   "metadata": {},
   "source": [
    "Ecrire une fonction **Comp** qui prend en entrée une méthode élémentaire $J_e$, la fonction $f$, les bornes $a,b$ de l'intervalle d'intégration et le nombre $n$ de sous-intervalles, et retourne la valeur approchée $J_c(f,a,b,n)$ donnée par la méthode composite correspondante."
   ]
  },
  {
   "cell_type": "code",
   "execution_count": null,
   "metadata": {
    "collapsed": true
   },
   "outputs": [],
   "source": []
  },
  {
   "cell_type": "markdown",
   "metadata": {},
   "source": [
    "Utiliser cette fonction pour calculer l'intégrale \n",
    "$$\n",
    "I=\\int_0^1 e^{x}\\, dx,\n",
    "$$\n",
    "avec les 4 méthodes élémentaires décrites plus haut. \n",
    "A $n$ fixé, comparer l'erreur produite par chacune des méthodes."
   ]
  },
  {
   "cell_type": "code",
   "execution_count": null,
   "metadata": {
    "collapsed": false
   },
   "outputs": [],
   "source": []
  },
  {
   "cell_type": "markdown",
   "metadata": {},
   "source": [
    "## Ordre de chaque méthode"
   ]
  },
  {
   "cell_type": "markdown",
   "metadata": {},
   "source": [
    "Représenter graphiquement, pour chaque méthode, l'erreur \n",
    "\n",
    "$$\n",
    "E_n=|I-J_c(\\exp,0,1,n)|,\n",
    "$$\n",
    "\n",
    "en fonction de $n$. (On pourra prendre un échantillon bien choisi de valeurs de $n$ entre $1$ et $1000$.)"
   ]
  },
  {
   "cell_type": "code",
   "execution_count": null,
   "metadata": {
    "collapsed": false
   },
   "outputs": [],
   "source": []
  },
  {
   "cell_type": "markdown",
   "metadata": {},
   "source": [
    "Représenter $\\log E_n$ en fonction de $\\log(n)$. (On pourra utiliser la commande *loglog*.)"
   ]
  },
  {
   "cell_type": "code",
   "execution_count": null,
   "metadata": {
    "collapsed": false
   },
   "outputs": [],
   "source": []
  },
  {
   "cell_type": "markdown",
   "metadata": {},
   "source": [
    "Une méthode est d'ordre $\\alpha$ si son erreur est d'ordre $\\frac{C}{n^\\alpha}$.\n",
    "\n",
    "Pour tout $C>0$ et $\\alpha>0$, montrer que \n",
    "$$\n",
    "E_n \\sim \\frac{C}{n^\\alpha}\n",
    "\\quad\n",
    "\\Rightarrow\n",
    "\\quad\n",
    "\\log E_n = \\log C -\\alpha \\log n +o(1)\n",
    "$$\n",
    "\n",
    "Utiliser cette observation pour retrouver, à partir des calculs précédents, l'ordre des quatre méthodes utilisées. Comparer avec les tests des méthodes élémentaires sur les monômes."
   ]
  },
  {
   "cell_type": "code",
   "execution_count": null,
   "metadata": {
    "collapsed": false
   },
   "outputs": [],
   "source": []
  },
  {
   "cell_type": "markdown",
   "metadata": {},
   "source": [
    "# Calcul d'un signal moyen\n",
    "\n",
    "On suppose qu'on dispose du signal bleu $s$ tracé ci-dessous en fonction du temps $t$. "
   ]
  },
  {
   "cell_type": "code",
   "execution_count": 4,
   "metadata": {
    "collapsed": false
   },
   "outputs": [
    {
     "name": "stdout",
     "output_type": "stream",
     "text": [
      "('mu = ', array([ 9.28529608]))\n"
     ]
    },
    {
     "data": {
      "image/png": "[encoded data removed]",
      "text/plain": [
       "<matplotlib.figure.Figure at 0x7f4ee0789b50>"
      ]
     },
     "metadata": {},
     "output_type": "display_data"
    }
   ],
   "source": [
    "n = 2000\n",
    "t_echant = sort(random.uniform(0,10,size=n))\n",
    "mumax = 10\n",
    "mu = random.uniform(0,mumax,size=1)\n",
    "ecarttype = random.uniform(0,mu*0.1,size=1)\n",
    "#s_echant = sin(2*t_echant)+numpy.random.normal(mu,ecarttype,size=n)\n",
    "s_echant = random.normal(mu,ecarttype,size=n)\n",
    "\n",
    "figure(100)\n",
    "plot(t_echant,s_echant)\n",
    "print(\"mu = \",mu)\n",
    "grid()"
   ]
  },
  {
   "cell_type": "markdown",
   "metadata": {},
   "source": [
    "On demande de calculer la valeur moyenne de ce signal au cours du temps afin d'en avoir une vision résumée, quitte à perdre un peu d'information.\n",
    "\n",
    "Plus précisément, on cherche à tracer en fonction du temps $t$ \n",
    "$$\n",
    "s_{moy}(t) := \\dfrac{1}{t} \\int_{t_0}^t s(u) du.\n",
    "$$\n",
    "\n",
    "Comme l'expression analytique du signal bleu $s$ n'est pas connue, on doit approcher l'intégrale à l'aide des valeurs dont on dispose dans les tableaux $t_{echant}$ et $s_{echant}$."
   ]
  },
  {
   "cell_type": "markdown",
   "metadata": {},
   "source": [
    "Tracer sur le même graphe \n",
    "+ le signal $s$ en bleu,\n",
    "+ et sa valeur moyenne calculée par la méthode des trapèzes en rouge."
   ]
  },
  {
   "cell_type": "code",
   "execution_count": null,
   "metadata": {
    "collapsed": false
   },
   "outputs": [],
   "source": []
  },
  {
   "cell_type": "markdown",
   "metadata": {},
   "source": [
    "# Une integrale sur un intervalle non compact"
   ]
  },
  {
   "cell_type": "markdown",
   "metadata": {},
   "source": [
    "Tracer, en utilisant une des méthodes composites décrites plus haut, le graphe de la fonction\n",
    "\n",
    "$$\n",
    "x\\mapsto \\int_0^x e^{-t^2}\\, dt\n",
    "$$\n",
    "\n",
    "sur $[0,+\\infty[$. Admet-elle une limite en $+\\infty$ ? Conjecturer sa valeur (on pourra la mettre au carré et multiplier par 2).\n"
   ]
  },
  {
   "cell_type": "code",
   "execution_count": null,
   "metadata": {
    "collapsed": false
   },
   "outputs": [],
   "source": []
  },
  {
   "cell_type": "markdown",
   "metadata": {},
   "source": [
    "# Une intégrale impropre"
   ]
  },
  {
   "cell_type": "markdown",
   "metadata": {},
   "source": [
    "Tracer le graphe de la fonction \n",
    "\n",
    "$$\n",
    "x\\mapsto \\int_0^x \\frac{\\sin t}{t}\\, dt\n",
    "$$\n",
    "\n",
    "sur $[0,+\\infty[$. Admet-elle une limite en $+\\infty$ ? Qu'en est-il de \n",
    "\n",
    "$$\n",
    "x\\mapsto \\int_0^x \\left| \\frac{\\sin t}{t}\\right|\\, dt \\qquad\\text{?}\n",
    "$$\n"
   ]
  },
  {
   "cell_type": "code",
   "execution_count": null,
   "metadata": {
    "collapsed": false
   },
   "outputs": [],
   "source": []
  },
  {
   "cell_type": "code",
   "execution_count": null,
   "metadata": {
    "collapsed": false
   },
   "outputs": [],
   "source": []
  },
  {
   "cell_type": "code",
   "execution_count": null,
   "metadata": {
    "collapsed": true
   },
   "outputs": [],
   "source": []
  }
 ],
 "metadata": {
  "kernelspec": {
   "display_name": "Python 2",
   "language": "python",
   "name": "python2"
  },
  "language_info": {
   "codemirror_mode": {
    "name": "ipython",
    "version": 2
   },
   "file_extension": ".py",
   "mimetype": "text/x-python",
   "name": "python",
   "nbconvert_exporter": "python",
   "pygments_lexer": "ipython2",
   "version": "2.7.11"
  }
 },
 "nbformat": 4,
 "nbformat_minor": 1
}

